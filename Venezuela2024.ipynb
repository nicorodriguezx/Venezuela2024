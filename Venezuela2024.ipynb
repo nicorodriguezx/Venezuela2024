{
  "nbformat": 4,
  "nbformat_minor": 0,
  "metadata": {
    "colab": {
      "provenance": []
    },
    "kernelspec": {
      "name": "python3",
      "display_name": "Python 3"
    },
    "language_info": {
      "name": "python"
    }
  },
  "cells": [
    {
      "cell_type": "code",
      "source": [
        "# Instalar la biblioteca zbar y sus dependencias\n",
        "# Install the zbar library and its dependencies\n",
        "!apt-get install -y libzbar0\n",
        "\n",
        "# Instalar las bibliotecas de Python necesarias\n",
        "# Install necessary Python libraries\n",
        "!pip install pillow matplotlib pyzbar"
      ],
      "metadata": {
        "id": "qkYcCuZWHI2b"
      },
      "execution_count": null,
      "outputs": []
    },
    {
      "cell_type": "code",
      "source": [
        "from google.colab import drive\n",
        "from PIL import Image\n",
        "import matplotlib.pyplot as plt\n",
        "from pyzbar.pyzbar import decode\n",
        "import os"
      ],
      "metadata": {
        "collapsed": true,
        "id": "iz16rfi80HBK"
      },
      "execution_count": 2,
      "outputs": []
    },
    {
      "cell_type": "code",
      "execution_count": 3,
      "metadata": {
        "colab": {
          "base_uri": "https://localhost:8080/"
        },
        "id": "4aMo0e4Czj7_",
        "outputId": "54eee8f1-7767-42ec-9d20-85f05a147b60"
      },
      "outputs": [
        {
          "output_type": "stream",
          "name": "stdout",
          "text": [
            "Mounted at /content/drive\n"
          ]
        }
      ],
      "source": [
        "# Montar Google Drive\n",
        "# Mount Google Drive\n",
        "drive.mount('/content/drive')\n",
        "\n",
        "# Establecer la ruta a la carpeta que contiene las imágenes\n",
        "# Set the path to the folder containing the images\n",
        "ruta_carpeta = '/content/drive/My Drive/Actas'"
      ]
    },
    {
      "cell_type": "code",
      "source": [
        "# Función para decodificar el código QR de una imagen\n",
        "# Function to decode QR code from an image\n",
        "def decodificar_qr(imagen_ruta):\n",
        "    imagen = Image.open(imagen_ruta)\n",
        "    objetos_decodificados = decode(imagen)\n",
        "    lista_textos = [obj.data.decode('utf-8') for obj in objetos_decodificados]\n",
        "    return lista_textos\n",
        "\n",
        "# Función para procesar las líneas de lista_textos_qr\n",
        "# Function to process lines from lista_textos_qr\n",
        "def procesar_lineas(lista_textos_qr):\n",
        "    resultados = []\n",
        "\n",
        "    for cadena_entrada in lista_textos_qr:\n",
        "        partes = cadena_entrada.split('!')\n",
        "        primer_termino = partes[0].split('.')[0]\n",
        "        parte_numeros = partes[1]\n",
        "        cadenas_numeros = parte_numeros.split(',')\n",
        "        numeros = [int(num) for num in cadenas_numeros]\n",
        "        rangos = [\n",
        "            (0, 13),\n",
        "            (13, 19),\n",
        "            (19, 20),\n",
        "            (20, 24),\n",
        "            (24, 30),\n",
        "            (30, 31),\n",
        "            (31, 33),\n",
        "            (33, 36),\n",
        "            (36, 37),\n",
        "            (37, 38)\n",
        "        ]\n",
        "        sumas = [sum(numeros[start:end]) for start, end in rangos]\n",
        "        resultado = [primer_termino] + sumas\n",
        "        resultados.append(resultado)\n",
        "\n",
        "    return resultados\n",
        "\n",
        "# Lista para almacenar el texto de los códigos QR\n",
        "# List to store QR codes' text\n",
        "lista_textos_qr = []\n",
        "\n",
        "# Iterar a través de todos los archivos en la carpeta especificada\n",
        "# Iterate through all files in the specified folder\n",
        "for nombre_archivo in os.listdir(ruta_carpeta):\n",
        "    ruta_archivo = os.path.join(ruta_carpeta, nombre_archivo)\n",
        "    if ruta_archivo.lower().endswith(('.png', '.jpg', '.jpeg', '.bmp', '.gif')):\n",
        "        textos = decodificar_qr(ruta_archivo)\n",
        "        lista_textos_qr.extend(textos)\n",
        "\n",
        "# Procesar los textos de QR recopilados\n",
        "# Process the collected QR texts\n",
        "resultados_procesados = procesar_lineas(lista_textos_qr)\n",
        "\n",
        "# Nombres de candidatos y colores\n",
        "# Candidate names and colors\n",
        "candidatos = [\n",
        "    'Maduro', 'Martinez', 'Bertucci', 'Brito', 'Ecarri',\n",
        "    'Fermin', 'Ceballos', 'Gonzalez', 'Marquez', 'Rausseo'\n",
        "]\n",
        "colores = [\n",
        "    'red', 'gray', 'green', 'yellow', 'purple',\n",
        "    'skyblue', 'orange', 'blue', 'pink', 'black'\n",
        "]\n",
        "\n",
        "# Inicializar una lista para almacenar los votos totales para cada candidato\n",
        "# Initialize a list to store total votes for each candidate\n",
        "votos_totales = [0] * len(candidatos)\n",
        "\n",
        "# Sumar votos para cada candidato\n",
        "# Sum votes for each candidate\n",
        "for entrada in resultados_procesados:\n",
        "    votos = entrada[1:]\n",
        "    for i in range(len(votos)):\n",
        "        votos_totales[i] += votos[i]\n",
        "\n",
        "# Imprimir votos totales para cada candidato\n",
        "# Print total votes for each candidate\n",
        "for i, total in enumerate(votos_totales):\n",
        "    print(f\"{candidatos[i]}: {total} votos\")"
      ],
      "metadata": {
        "id": "KlxBssEtG4Dx"
      },
      "execution_count": null,
      "outputs": []
    },
    {
      "cell_type": "code",
      "source": [
        "# Graficar los resultados\n",
        "# Plot the results\n",
        "plt.figure(figsize=(14, 8))\n",
        "barras = plt.bar(candidatos, votos_totales, color=colores, edgecolor='black')\n",
        "\n",
        "# Añadir etiquetas y título con estilo personalizado\n",
        "# Add labels and title with custom styling\n",
        "plt.xlabel('Candidato', fontsize=14, fontweight='bold')\n",
        "plt.ylabel('Votos Totales', fontsize=14, fontweight='bold')\n",
        "plt.title('Votos Totales por Candidato', fontsize=16, fontweight='bold')\n",
        "\n",
        "# Añadir etiquetas de valor en las barras\n",
        "# Add value labels on bars\n",
        "for barra in barras:\n",
        "    altura = barra.get_height()\n",
        "    plt.text(\n",
        "        barra.get_x() + barra.get_width() / 2.0,\n",
        "        altura,\n",
        "        f'{altura}',\n",
        "        ha='center',\n",
        "        va='bottom',\n",
        "        fontsize=12,\n",
        "        fontweight='bold'\n",
        "    )\n",
        "\n",
        "# Rotar las etiquetas del eje x para una mejor legibilidad\n",
        "# Rotate x-axis labels for better readability\n",
        "plt.xticks(rotation=45, ha='right', fontsize=12)\n",
        "\n",
        "# Añadir una cuadrícula para el eje y y mejorar el diseño\n",
        "# Add grid for y-axis and improve layout\n",
        "plt.grid(axis='y', linestyle='--', alpha=0.7)\n",
        "plt.tight_layout()\n",
        "\n",
        "# Mostrar la gráfica\n",
        "# Show plot\n",
        "plt.show()"
      ],
      "metadata": {
        "id": "5XgEBgqeGvtz"
      },
      "execution_count": null,
      "outputs": []
    }
  ]
}